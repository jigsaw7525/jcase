{
 "cells": [
  {
   "cell_type": "markdown",
   "metadata": {},
   "source": [
    "寫入城市"
   ]
  },
  {
   "cell_type": "code",
   "execution_count": 20,
   "metadata": {},
   "outputs": [],
   "source": [
    "import sqlite3\n",
    "from datetime import datetime"
   ]
  },
  {
   "cell_type": "code",
   "execution_count": 18,
   "metadata": {},
   "outputs": [],
   "source": [
    "citys = [(1, '基隆市'),\n",
    " (2, '台北市'),\n",
    " (3, '新北市'),\n",
    " (4, '桃園縣'),\n",
    " (5, '新竹市'),\n",
    " (6, '新竹縣'),\n",
    " (7, '苗栗縣'),\n",
    " (8, '台中市'),\n",
    " (9, '彰化縣'),\n",
    " (10, '南投縣'),\n",
    " (11, '雲林縣'),\n",
    " (12, '嘉義市'),\n",
    " (13, '嘉義縣'),\n",
    " (14, '台南市'),\n",
    " (15, '高雄市'),\n",
    " (16, '屏東縣'),\n",
    " (17, '台東縣'),\n",
    " (18, '花蓮縣'),\n",
    " (19, '宜蘭縣'),\n",
    " (20, '澎湖縣'),\n",
    " (21, '金門縣'),\n",
    " (22, '連江縣')]"
   ]
  },
  {
   "cell_type": "code",
   "execution_count": 7,
   "metadata": {},
   "outputs": [],
   "source": [
    "respondents = ['公司行號', '工作室', '學生身分', '上班族兼職']"
   ]
  },
  {
   "cell_type": "code",
   "execution_count": 33,
   "metadata": {},
   "outputs": [],
   "source": [
    "states = ['新進案','發案中','製作中','已結案']"
   ]
  },
  {
   "cell_type": "code",
   "execution_count": 40,
   "metadata": {},
   "outputs": [],
   "source": [
    "amounts = ['3000','5000','10000~30000','50000','10萬','30萬','50萬~100萬','100萬以上','面議']"
   ]
  },
  {
   "cell_type": "code",
   "execution_count": 42,
   "metadata": {},
   "outputs": [],
   "source": [
    "modes = ['到場配合','遠端合作','面談']"
   ]
  },
  {
   "cell_type": "code",
   "execution_count": 44,
   "metadata": {},
   "outputs": [],
   "source": [
    "periods = ['三天內','一個禮拜','二~四個禮拜','一個月內','三個月','半年','一以上','面議']"
   ]
  },
  {
   "cell_type": "code",
   "execution_count": 46,
   "metadata": {},
   "outputs": [],
   "source": [
    "categorys = ['程式開發',\n",
    " '平面設計',\n",
    " '網頁設計',\n",
    " '翻譯寫作',\n",
    " '商攝娛樂',\n",
    " '影像製作',\n",
    " '空間設計',\n",
    " '生活服務',\n",
    " '活動企劃',\n",
    " '專業顧問',\n",
    " '資訊工程']"
   ]
  },
  {
   "cell_type": "code",
   "execution_count": 34,
   "metadata": {},
   "outputs": [],
   "source": [
    "\n",
    "conn = sqlite3.connect('../db.sqlite3')\n",
    "cursor = conn.cursor()\n",
    "\n"
   ]
  },
  {
   "cell_type": "code",
   "execution_count": 35,
   "metadata": {},
   "outputs": [
    {
     "data": {
      "text/plain": [
       "'2022-02-08'"
      ]
     },
     "execution_count": 35,
     "metadata": {},
     "output_type": "execute_result"
    }
   ],
   "source": [
    "today = datetime.today().strftime('%Y-%m-%d')\n",
    "today"
   ]
  },
  {
   "cell_type": "code",
   "execution_count": null,
   "metadata": {},
   "outputs": [],
   "source": [
    "try:\n",
    "    for city in citys :\n",
    "        #print(city)\n",
    "        sqlstr = f'insert into user_city (id,name,createdom) values ({city[0]},\"{city[1]}\",\"{today}\")'\n",
    "        cursor.execute(sqlstr)        \n",
    "    conn.commit()\n",
    "    print(\"done!\")\n",
    "except:\n",
    "    pass"
   ]
  },
  {
   "cell_type": "code",
   "execution_count": 29,
   "metadata": {},
   "outputs": [],
   "source": [
    "try:\n",
    "    for respondent in respondents :\n",
    "        #print(city)\n",
    "        sqlstr = f'insert into user_respondent (name,createdom) values (\"{respondent}\",\"{today}\")'\n",
    "        cursor.execute(sqlstr)        \n",
    "    conn.commit()\n",
    "    print(\"done!\")\n",
    "except:\n",
    "    pass"
   ]
  },
  {
   "cell_type": "code",
   "execution_count": 37,
   "metadata": {},
   "outputs": [
    {
     "name": "stdout",
     "output_type": "stream",
     "text": [
      "done!\n"
     ]
    }
   ],
   "source": [
    "try:\n",
    "    for state in states :\n",
    "        #print(city)\n",
    "        sqlstr = f'insert into case_state (name,createdom) values (\"{state}\",\"{today}\")'\n",
    "        cursor.execute(sqlstr)        \n",
    "    conn.commit()\n",
    "    print(\"done!\")\n",
    "except:\n",
    "    pass"
   ]
  },
  {
   "cell_type": "code",
   "execution_count": 41,
   "metadata": {},
   "outputs": [
    {
     "name": "stdout",
     "output_type": "stream",
     "text": [
      "done!\n"
     ]
    }
   ],
   "source": [
    "try:\n",
    "    for amount in amounts :\n",
    "        #print(city)\n",
    "        sqlstr = f'insert into case_amount (name,createdom) values (\"{amount}\",\"{today}\")'\n",
    "        cursor.execute(sqlstr)        \n",
    "    conn.commit()\n",
    "    print(\"done!\")\n",
    "except:\n",
    "    pass"
   ]
  },
  {
   "cell_type": "code",
   "execution_count": 43,
   "metadata": {},
   "outputs": [
    {
     "name": "stdout",
     "output_type": "stream",
     "text": [
      "done!\n"
     ]
    }
   ],
   "source": [
    "try:\n",
    "    for mode in modes :\n",
    "        #print(city)\n",
    "        sqlstr = f'insert into case_mode (name,createdom) values (\"{mode}\",\"{today}\")'\n",
    "        cursor.execute(sqlstr)        \n",
    "    conn.commit()\n",
    "    print(\"done!\")\n",
    "except:\n",
    "    pass"
   ]
  },
  {
   "cell_type": "code",
   "execution_count": 45,
   "metadata": {},
   "outputs": [
    {
     "name": "stdout",
     "output_type": "stream",
     "text": [
      "done!\n"
     ]
    }
   ],
   "source": [
    "try:\n",
    "    for period in periods :\n",
    "        #print(city)\n",
    "        sqlstr = f'insert into case_period (name,createdom) values (\"{period}\",\"{today}\")'\n",
    "        cursor.execute(sqlstr)        \n",
    "    conn.commit()\n",
    "    print(\"done!\")\n",
    "except:\n",
    "    pass"
   ]
  },
  {
   "cell_type": "code",
   "execution_count": 47,
   "metadata": {},
   "outputs": [
    {
     "name": "stdout",
     "output_type": "stream",
     "text": [
      "done!\n"
     ]
    }
   ],
   "source": [
    "try:\n",
    "    for category in categorys :\n",
    "        #print(city)\n",
    "        sqlstr = f'insert into case_category (name,createdom) values (\"{category}\",\"{today}\")'\n",
    "        cursor.execute(sqlstr)        \n",
    "    conn.commit()\n",
    "    print(\"done!\")\n",
    "except:\n",
    "    pass"
   ]
  },
  {
   "cell_type": "code",
   "execution_count": 25,
   "metadata": {},
   "outputs": [],
   "source": [
    "conn.close()"
   ]
  },
  {
   "cell_type": "code",
   "execution_count": null,
   "metadata": {},
   "outputs": [],
   "source": []
  }
 ],
 "metadata": {
  "interpreter": {
   "hash": "d3031bf5902bcbdc1aa12c0b4e68ca0780b5916da5fda9fce4ecf89d9a40e224"
  },
  "kernelspec": {
   "display_name": "Python 3.9.7 64-bit ('base': conda)",
   "language": "python",
   "name": "python3"
  },
  "language_info": {
   "codemirror_mode": {
    "name": "ipython",
    "version": 3
   },
   "file_extension": ".py",
   "mimetype": "text/x-python",
   "name": "python",
   "nbconvert_exporter": "python",
   "pygments_lexer": "ipython3",
   "version": "3.9.7"
  },
  "orig_nbformat": 4
 },
 "nbformat": 4,
 "nbformat_minor": 2
}
